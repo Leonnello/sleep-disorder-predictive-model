{
  "nbformat": 4,
  "nbformat_minor": 0,
  "metadata": {
    "colab": {
      "provenance": []
    },
    "kernelspec": {
      "name": "python3",
      "display_name": "Python 3"
    },
    "language_info": {
      "name": "python"
    }
  },
  "cells": [
    {
      "cell_type": "markdown",
      "source": [
        "# **Data Gathering**"
      ],
      "metadata": {
        "id": "zFZRwQbsnjSL"
      }
    },
    {
      "cell_type": "code",
      "source": [
        "import pandas as pd\n",
        "import numpy as np\n",
        "import seaborn as sns\n",
        "import matplotlib.pyplot as plt\n",
        "import kagglehub\n",
        "from sklearn.model_selection import train_test_split\n",
        "from sklearn.ensemble import RandomForestClassifier\n",
        "from sklearn.linear_model import LogisticRegression\n",
        "from sklearn.metrics import classification_report, confusion_matrix, accuracy_score\n",
        "from sklearn.metrics import precision_score, recall_score, f1_score\n",
        "from sklearn.preprocessing import LabelEncoder\n",
        "\n",
        "pd.set_option('display.max_columns', None)\n",
        "\n",
        "path = kagglehub.dataset_download(\"uom190346a/sleep-health-and-lifestyle-dataset\")\n",
        "data = pd.read_csv(f\"{path}/Sleep_health_and_lifestyle_dataset.csv\")\n",
        "\n",
        "display(data.head())\n",
        "\n",
        "print(\"\\nDataset Info:\")\n",
        "display(data.info())"
      ],
      "metadata": {
        "id": "a0Qc7X60JgJE"
      },
      "execution_count": null,
      "outputs": []
    },
    {
      "cell_type": "markdown",
      "source": [
        "The dataset is downloaded using kagglehub.dataset_download() and loaded into a pandas DataFrame. We display basic information about the dataset using data.head() and data.info() to understand its structure."
      ],
      "metadata": {
        "id": "4UNFkidv2y-b"
      }
    },
    {
      "cell_type": "markdown",
      "source": [
        "# **Cleansing Data**"
      ],
      "metadata": {
        "id": "w80PVWprnqrN"
      }
    },
    {
      "cell_type": "code",
      "source": [
        "print(\"Missing Values:\\n\")\n",
        "display(data.isnull().sum())\n",
        "\n",
        "numeric_columns = data.select_dtypes(include=['float64', 'int64']).columns\n",
        "for col in numeric_columns:\n",
        "    data[col].fillna(data[col].median(), inplace=True)\n",
        "\n",
        "# Blood Pressure\n",
        "data[['Systolic', 'Diastolic']] = data['Blood Pressure'].str.split('/', expand=True).astype(float)\n",
        "data = data.drop('Blood Pressure', axis=1)\n",
        "\n",
        "# Sleep Duration\n",
        "data = data[(data['Sleep Duration'] >= 3) & (data['Sleep Duration'] <= 15)]\n",
        "\n",
        "# Categorical variables\n",
        "categorical_columns = ['Gender', 'BMI Category', 'Occupation']\n",
        "data = pd.get_dummies(data, columns=categorical_columns, drop_first=True)\n",
        "\n",
        "# Sleep Disorder (target variable)\n",
        "le = LabelEncoder()\n",
        "data['Sleep Disorder'] = le.fit_transform(data['Sleep Disorder'])\n",
        "print(\"\\nSleep Disorder Encoding Mapping:\")\n",
        "for category, encoded_value in dict(zip(le.classes_, le.transform(le.classes_))).items():\n",
        "    print(f\"{category}: {encoded_value}\")\n",
        "\n",
        "display(data.head())"
      ],
      "metadata": {
        "id": "qopB4QS4eKXl"
      },
      "execution_count": null,
      "outputs": []
    },
    {
      "cell_type": "markdown",
      "source": [
        "The provided dataset contains information about various sleep health and lifestyle factors, including demographics (age, gender, occupation), sleep metrics (duration, quality), physiological measurements (blood pressure, heart rate), and behavioral factors (physical activity, stress level). The data cleaning process involves handling missing values, splitting the \"Blood Pressure\" column into \"Systolic\" and \"Diastolic\" components, and encoding categorical variables like \"Gender,\" \"BMI Category,\" \"Sleep Disorder\", and \"Occupation.\"\n",
        "\n",
        "The cleaned and preprocessed data can be used to address the problem statement and data science questions. By analyzing the relationships between variables like stress levels, physical activity, sleep duration, and blood pressure, we can gain insights into how lifestyle and health metrics impact sleep disorders. For instance, we can explore whether higher stress levels are associated with poorer sleep quality, or if increased physical activity is correlated with longer sleep duration. Additionally, by building predictive models, we can identify which factors are most predictive of specific sleep disorders, such as insomnia or sleep apnea."
      ],
      "metadata": {
        "id": "t5lvWvdei-KM"
      }
    },
    {
      "cell_type": "markdown",
      "source": [
        "# **Exploratory Data Analysis**"
      ],
      "metadata": {
        "id": "X79OQ4kXh9gD"
      }
    },
    {
      "cell_type": "markdown",
      "source": [
        "Problem Statement: How do lifestyle and health metrics impact sleep disorders among individuals? Can we identify patterns or predictors that influence sleep disorders, such as Insomnia or Sleep Apnea?\n",
        "\n",
        "Data Science Questions:\n",
        "\n",
        "1. What is the relationship between stress levels and sleep quality?\n",
        "2. Are physical activity levels correlated with sleep duration?\n",
        "3. Which factors (e.g., age, BMI category, heart rate) are most indicative of the presence of a sleep disorder?"
      ],
      "metadata": {
        "id": "Xgu6vpW14jjk"
      }
    },
    {
      "cell_type": "code",
      "source": [
        "# Correlation heatmap for numeric variables\n",
        "plt.figure(figsize=(12, 10))\n",
        "numeric_data = data.select_dtypes(include=['float64', 'int64'])\n",
        "sns.heatmap(numeric_data.corr(), annot=True, cmap='coolwarm', fmt='.2f')\n",
        "plt.title(\"Correlation Heatmap\")\n",
        "plt.tight_layout()\n",
        "plt.show()"
      ],
      "metadata": {
        "id": "m2bll19lBLW8"
      },
      "execution_count": null,
      "outputs": []
    },
    {
      "cell_type": "markdown",
      "source": [
        "The correlation heatmap provides insights into the relationship between various health and lifestyle factors, aligning with the problem statement's focus on sleep disorders. Notably, stress has a strong negative impact on sleep quality and duration. While physical activity might indirectly influence sleep through stress reduction, its direct impact on sleep duration is less pronounced. Sleep disorders are significantly correlated with poor sleep quality, duration, and higher blood pressure. To further address the problem statement, a data model could be used to predict sleep disorders based on these factors, explore potential causal relationships, and identify subgroups with specific risk factors."
      ],
      "metadata": {
        "id": "vlorqLmcBfZw"
      }
    },
    {
      "cell_type": "code",
      "source": [
        "#Distribution of sleep disorders across BMI categories\n",
        "plt.figure(figsize=(10, 6))\n",
        "sns.countplot(data=data, x='Sleep Disorder', hue='BMI Category_Normal Weight')\n",
        "plt.title('Distribution of Sleep Disorders by Normal Weight')\n",
        "plt.xticks(rotation=45)\n",
        "plt.show()\n",
        "\n",
        "plt.figure(figsize=(10, 6))\n",
        "sns.countplot(data=data, x='Sleep Disorder', hue='BMI Category_Obese')\n",
        "plt.title('Distribution of Sleep Disorders by Obese')\n",
        "plt.xticks(rotation=45)\n",
        "plt.show()\n",
        "\n",
        "plt.figure(figsize=(10, 6))\n",
        "sns.countplot(data=data, x='Sleep Disorder', hue='BMI Category_Overweight')\n",
        "plt.title('Distribution of Sleep Disorders by Overweight')\n",
        "plt.xticks(rotation=45)\n",
        "plt.show()"
      ],
      "metadata": {
        "id": "_H6vlMaq56dQ"
      },
      "execution_count": null,
      "outputs": []
    },
    {
      "cell_type": "markdown",
      "source": [
        "The graphs reveal a strong correlation between weight status and sleep disorders. Individuals with normal weight have a significantly lower risk of experiencing sleep disorders like Insomnia and Sleep Apnea compared to those who are overweight or obese. This suggests that maintaining a healthy weight is crucial for promoting good sleep health."
      ],
      "metadata": {
        "id": "AVmXPX2x7oWs"
      }
    },
    {
      "cell_type": "code",
      "source": [
        "# Distribution of Sleep Disorders\n",
        "plt.figure(figsize=(10, 6))\n",
        "sns.countplot(data=data, x='Sleep Disorder', hue='Sleep Disorder')\n",
        "plt.title(\"Distribution of Sleep Disorders\")\n",
        "plt.xticks(rotation=45)\n",
        "plt.tight_layout()\n",
        "plt.show()"
      ],
      "metadata": {
        "id": "uBAOneg6BTQd"
      },
      "execution_count": null,
      "outputs": []
    },
    {
      "cell_type": "markdown",
      "source": [
        "This bar plot shows the distribution of individuals across different sleep disorder categories (0, 1, 2). The majority of individuals seem to fall into category 2, suggesting a higher prevalence of sleep disorders in the dataset. It's important to understand the specific definitions of these categories to interpret the findings accurately."
      ],
      "metadata": {
        "id": "n6YPossnBmfd"
      }
    },
    {
      "cell_type": "code",
      "source": [
        "# Blood Pressure\n",
        "fig, (ax1, ax2) = plt.subplots(1, 2, figsize=(15, 5))\n",
        "\n",
        "sns.histplot(data=data, x='Systolic', kde=True, ax=ax1)\n",
        "ax1.set_title('Systolic Blood Pressure Distribution')\n",
        "\n",
        "sns.histplot(data=data, x='Diastolic', kde=True, ax=ax2)\n",
        "ax2.set_title('Diastolic Blood Pressure Distribution')\n",
        "\n",
        "plt.tight_layout()\n",
        "plt.show()"
      ],
      "metadata": {
        "id": "WNnNIKV4BWhv"
      },
      "execution_count": null,
      "outputs": []
    },
    {
      "cell_type": "markdown",
      "source": [
        "1. Systolic Blood Pressure Distribution: This histogram with a density curve shows the distribution of systolic blood pressure values. The distribution appears to be roughly normal, with a peak around 125 mmHg. The density curve helps visualize the underlying probability distribution.\n",
        "2. Diastolic Blood Pressure Distribution: Similar to the systolic blood pressure distribution, this histogram shows the distribution of diastolic blood pressure values. The distribution is also approximately normal, with a peak around 80 mmHg."
      ],
      "metadata": {
        "id": "W02i0ON8B7kg"
      }
    },
    {
      "cell_type": "code",
      "source": [
        "# 1. Stress levels vs Sleep Quality\n",
        "plt.figure(figsize=(10, 6))\n",
        "sns.scatterplot(data=data, x='Stress Level', y='Quality of Sleep', hue='Sleep Disorder')\n",
        "plt.title('Stress Levels vs Sleep Quality')\n",
        "plt.show()"
      ],
      "metadata": {
        "id": "PbakiMuABZNW"
      },
      "execution_count": null,
      "outputs": []
    },
    {
      "cell_type": "markdown",
      "source": [
        "This scatter plot illustrates a clear negative correlation between stress levels and sleep quality. As stress levels increase, sleep quality generally decreases. Individuals with insomnia (category 0) tend to have lower sleep quality, regardless of their stress level. Those with sleep apnea (category 1) also experience poorer sleep quality, especially at higher stress levels."
      ],
      "metadata": {
        "id": "YRibxWMdCAqw"
      }
    },
    {
      "cell_type": "code",
      "source": [
        "# 2. Physical activity vs Sleep Duration\n",
        "plt.figure(figsize=(10, 6))\n",
        "sns.scatterplot(data=data, x='Physical Activity Level', y='Sleep Duration', hue='Sleep Disorder')\n",
        "plt.title('Physical Activity Levels vs Sleep Duration')\n",
        "plt.show()"
      ],
      "metadata": {
        "id": "GnWuvCowBa2V"
      },
      "execution_count": null,
      "outputs": []
    },
    {
      "cell_type": "markdown",
      "source": [
        "The relationship between physical activity levels and sleep duration is less straightforward. While there's a slight positive trend, indicating that higher physical activity might lead to longer sleep duration, the correlation is not strong. Individuals with insomnia tend to have shorter sleep durations, regardless of their physical activity levels. Sleep apnea seems to have a more variable impact on sleep duration."
      ],
      "metadata": {
        "id": "TTRGnZJGCFak"
      }
    },
    {
      "cell_type": "markdown",
      "source": [
        "# **Modelling**"
      ],
      "metadata": {
        "id": "ukOjyHpNiAsp"
      }
    },
    {
      "cell_type": "code",
      "source": [
        "# Prepare features and target\n",
        "X = data.drop(['Sleep Disorder'], axis=1)\n",
        "y = data['Sleep Disorder']\n",
        "\n",
        "# Split data\n",
        "X_train, X_test, y_train, y_test = train_test_split(\n",
        "    X, y, test_size=0.2, random_state=42, stratify=y\n",
        ")\n",
        "\n",
        "# Initialize and train models\n",
        "models = {\n",
        "    'Random Forest': RandomForestClassifier(\n",
        "        random_state=42,\n",
        "        n_estimators=100,\n",
        "        class_weight='balanced'\n",
        "    ),\n",
        "    'Logistic Regression': LogisticRegression(\n",
        "        max_iter=1000,\n",
        "        class_weight='balanced'\n",
        "    )\n",
        "}\n",
        "\n",
        "results = {}\n",
        "feature_importance = {}\n",
        "\n",
        "for name, model in models.items():\n",
        "    print(f\"\\nTraining {name}...\")\n",
        "    model.fit(X_train, y_train)\n",
        "    y_pred = model.predict(X_test)\n",
        "    results[name] = {\n",
        "        'model': model,\n",
        "        'predictions': y_pred,\n",
        "        'y_test': y_test\n",
        "    }\n",
        "\n",
        "    if name == 'Random Forest':\n",
        "        feature_importance = dict(zip(X.columns, model.feature_importances_))\n"
      ],
      "metadata": {
        "id": "Lr2w75XIKM52"
      },
      "execution_count": null,
      "outputs": []
    },
    {
      "cell_type": "markdown",
      "source": [
        "The code first separates the dataset into features (X) and the target variable (y), which is the \"Sleep Disorder\" column. It then splits the data into training and testing sets to prepare for model training and evaluation. Next, it initializes two machine learning models: Random Forest Classifier and Logistic Regression, both configured to handle potential class imbalance in the data. The models are trained on the training set and then used to make predictions on the testing set. The predictions, along with the actual target values, are stored for later evaluation. Additionally, for the Random Forest model, the code extracts the feature importances to understand which factors contribute most to the prediction of sleep disorders."
      ],
      "metadata": {
        "id": "Ztg4cE4N3EVo"
      }
    },
    {
      "cell_type": "markdown",
      "source": [
        "# **Evaluation**"
      ],
      "metadata": {
        "id": "EvNm2FuYiGHa"
      }
    },
    {
      "cell_type": "code",
      "source": [
        "# For each model in results\n",
        "for name, result in results.items():\n",
        "    try:\n",
        "        # Get the true and predicted values\n",
        "        y_true = result['y_test'].copy()\n",
        "        y_pred = result['predictions'].copy()\n",
        "\n",
        "        # Replace NaN with a string label 'No Disorder'\n",
        "        y_true = np.where(pd.isna(y_true), 'No Disorder', y_true)\n",
        "        y_pred = np.where(pd.isna(y_pred), 'No Disorder', y_pred)\n",
        "\n",
        "        print(f\"\\n{name} Results:\")\n",
        "        print(\"Classification Report:\")\n",
        "        print(classification_report(y_true, y_pred))\n",
        "\n",
        "        # Get unique classes including 'No Disorder'\n",
        "        classes = np.unique(np.concatenate([y_true, y_pred]))\n",
        "\n",
        "        # Calculate metrics\n",
        "        precision = precision_score(y_true, y_pred, average='weighted')\n",
        "        recall = recall_score(y_true, y_pred, average='weighted')\n",
        "        f1 = f1_score(y_true, y_pred, average='weighted')\n",
        "\n",
        "        print(f\"\\nMetrics Summary:\")\n",
        "        print(f\"Precision: {precision:.3f}\")\n",
        "        print(f\"Recall: {recall:.3f}\")\n",
        "        print(f\"F1 Score: {f1:.3f}\")\n",
        "\n",
        "        # Plot confusion matrix\n",
        "        plt.figure(figsize=(8, 6))\n",
        "        cm = confusion_matrix(y_true, y_pred)\n",
        "        sns.heatmap(cm,\n",
        "                   annot=True,\n",
        "                   fmt=\"d\",\n",
        "                   cmap=\"Blues\",\n",
        "                   xticklabels=classes,\n",
        "                   yticklabels=classes)\n",
        "        plt.title(f\"{name} Confusion Matrix\")\n",
        "        plt.ylabel('True Label')\n",
        "        plt.xlabel('Predicted Label')\n",
        "        plt.xticks(rotation=45)\n",
        "        plt.tight_layout()\n",
        "        plt.show()\n",
        "\n",
        "    except Exception as e:\n",
        "        print(f\"Error in analysis for {name}: {str(e)}\")\n",
        "        print(f\"y_test unique values: {np.unique(result['y_test'])}\")\n",
        "        print(f\"predictions unique values: {np.unique(result['predictions'])}\")\n",
        "\n",
        "# Plot feature importance for Random Forest\n",
        "plt.figure(figsize=(12, 6))\n",
        "importance_df = pd.DataFrame({\n",
        "    'Feature': feature_importance.keys(),\n",
        "    'Importance': feature_importance.values()\n",
        "}).sort_values('Importance', ascending=False)\n",
        "\n",
        "sns.barplot(data=importance_df, x='Importance', y='Feature')\n",
        "plt.title('Feature Importance (Random Forest)')\n",
        "plt.tight_layout()\n",
        "plt.show()"
      ],
      "metadata": {
        "id": "AHi3tTrh2AB1"
      },
      "execution_count": null,
      "outputs": []
    },
    {
      "cell_type": "markdown",
      "source": [
        "The code evaluates the performance of the trained models by calculating classification metrics like precision, recall, and F1-score for each model. It also visualizes confusion matrices to understand how well the models classified different sleep disorder categories, including \"No Disorder.\" Additionally, for the Random Forest model, it plots feature importance to identify the most influential factors in predicting sleep disorders."
      ],
      "metadata": {
        "id": "5B3KfAdg3T6u"
      }
    },
    {
      "cell_type": "markdown",
      "source": [
        "1. Random Forest Confusion Matrix\n",
        "\n",
        "  The Random Forest model performed well in classifying sleep disorders, particularly in accurately identifying individuals with no sleep disorder. The model's precision, recall, and F1-score of 0.920 indicate strong performance. However, the model struggled slightly in distinguishing between insomnia and sleep apnea, suggesting room for improvement in this area.\n",
        "\n",
        "2. Logistic Regression Confusion Matrix\n",
        "\n",
        "  The Logistic Regression model achieved a precision of 0.880, a recall of 0.867, and an F1-score of 0.869. This indicates a strong performance overall.\n",
        "\n",
        "  The confusion matrix provides a detailed breakdown of the model's predictions. The model excels at correctly identifying individuals with no sleep disorder (True Negative: 40). It also performs well in classifying individuals with Sleep Apnea, with a few misclassifications as Insomnia. However, the model struggles to accurately distinguish between Insomnia and Sleep Apnea, as evidenced by the misclassifications in these categories.\n",
        "\n",
        "3. Feature Importance\n",
        "\n",
        "  The feature importance plot reveals that individual-specific factors, such as Person ID, are the most significant predictors of sleep disorders. Additionally, health metrics like blood pressure and BMI category, as well as occupational factors, play crucial roles. Lifestyle factors such as sleep duration, quality of sleep, stress level, and physical activity level also contribute to the model's predictions."
      ],
      "metadata": {
        "id": "HGnITtpcmfpD"
      }
    },
    {
      "cell_type": "markdown",
      "source": [
        "**Conclusion**"
      ],
      "metadata": {
        "id": "RTSk_BRwotNm"
      }
    },
    {
      "cell_type": "markdown",
      "source": [
        "Problem Statement:\n",
        "How do lifestyle and health metrics impact sleep disorders among individuals? Can we identify patterns or predictors that influence sleep disorders, such as Insomnia or Sleep Apnea?\n",
        "\n",
        "Data Science Questions:\n",
        "\n",
        "1. What is the relationship between stress levels and sleep quality?\n",
        "2. Are physical activity levels correlated with sleep duration?\n",
        "3. Which factors (e.g., age, BMI category, heart rate) are most indicative of the presence of a sleep disorder?"
      ],
      "metadata": {
        "id": "Fgqm6SNjoviJ"
      }
    },
    {
      "cell_type": "markdown",
      "source": [
        "Based on the analysis of the data, it appears that lifestyle and health metrics have a significant impact on sleep disorders.\n",
        "\n",
        "1. As expected, there is a strong negative correlation between stress levels and sleep quality. Higher stress levels are associated with poorer sleep quality, particularly for individuals with insomnia and sleep apnea.\n",
        "\n",
        "2. While physical activity can positively influence sleep duration, its impact is less pronounced. Individuals with insomnia tend to have shorter sleep durations, regardless of their physical activity levels.\n",
        "\n",
        "3. Several factors have been identified as strong predictors of sleep disorders:\n",
        "  * Individual Factors: Personal characteristics, as indicated by Person ID, play a crucial role.\n",
        "  * Health Metrics: Blood pressure and BMI category are significant predictors. Higher blood pressure and increased weight are often associated with sleep disorders.\n",
        "  * Occupational Factors: Certain occupations, particularly shift work and high-stress jobs, can increase the risk of sleep disorders.\n",
        "  * Lifestyle Factors: Sleep duration, sleep quality, stress levels, and physical activity are important factors influencing sleep health."
      ],
      "metadata": {
        "id": "-WGDdykKo2nm"
      }
    },
    {
      "cell_type": "markdown",
      "source": [
        "**Limitations & Recommendations**"
      ],
      "metadata": {
        "id": "sKsBLSEv3071"
      }
    },
    {
      "cell_type": "markdown",
      "source": [
        "While this model provides valuable insights, it is important to acknowledge its limitations and explore its opportunities. Future research could focus on expanding the dataset, incorporating additional features, and employing more advanced machine learning techniques to enhance the model's predictive accuracy and generalizability.\n",
        "\n"
      ],
      "metadata": {
        "id": "p_J14-un2fIR"
      }
    }
  ]
}